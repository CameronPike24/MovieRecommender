{
 "cells": [
  {
   "cell_type": "markdown",
   "metadata": {},
   "source": [
    "Import files"
   ]
  },
  {
   "cell_type": "markdown",
   "metadata": {},
   "source": [
    "# **Recommender System - MovieLens Data analysis**"
   ]
  },
  {
   "cell_type": "markdown",
   "metadata": {},
   "source": [
    "**by**"
   ]
  },
  {
   "cell_type": "markdown",
   "metadata": {},
   "source": [
    "# **Cameron Pike**"
   ]
  },
  {
   "cell_type": "markdown",
   "metadata": {},
   "source": [
    "# **Introduction**"
   ]
  },
  {
   "cell_type": "markdown",
   "metadata": {},
   "source": [
    "A recommender system functions by predicting a user's rating or preference for an item.There are two types of recommender systems namely Content-based and Collaborative filtering.\n",
    "\n",
    "Terms:\n",
    "Item -  is something which is consumed (eg movies)\n",
    "Users - individuals who interact with the items \n",
    "Ratings - eg giving a movie a rating of 3/5\n",
    "\n",
    "Recommender systems are built by utilising the relationships which exist between items and users. \n",
    "These systems require a method to measure how related or similar a user is to another user, or an item is to another item.\n",
    "\n",
    "In Content-based Filtering, we search to make recommendations based on how similar the properties or features of an ITEM are to other items.\n",
    "\n",
    "In Collaborative-based filtering we use the similarity measured between USERS to make recommendations.\n",
    "A Utility Matrix is created where each user is represented as a row and the items (movies) make up features for each user - whether they have rated a movie or not.\n",
    "We can now measure how similar users are to one another based on their rating characteristics.\n",
    "\n",
    "A major downside to this approach is a term called 'Cold-start problem'. A new user will have very few ratings.It is possible to filter out these users.\n",
    "\n",
    "This notebook uses Collaborative-based filtering to predict the rating when provided with the userid and movieid."
   ]
  },
  {
   "cell_type": "markdown",
   "metadata": {},
   "source": [
    "# **Load Libraries**"
   ]
  },
  {
   "cell_type": "code",
   "execution_count": 1,
   "metadata": {
    "execution": {
     "iopub.execute_input": "2022-10-13T07:12:28.676241Z",
     "iopub.status.busy": "2022-10-13T07:12:28.675778Z",
     "iopub.status.idle": "2022-10-13T07:12:31.847277Z",
     "shell.execute_reply": "2022-10-13T07:12:31.846305Z",
     "shell.execute_reply.started": "2022-10-13T07:12:28.676143Z"
    },
    "scrolled": true
   },
   "outputs": [
    {
     "name": "stderr",
     "output_type": "stream",
     "text": [
      "/home/bevan/.local/lib/python3.8/site-packages/scipy/__init__.py:155: UserWarning: A NumPy version >=1.18.5 and <1.25.0 is required for this version of SciPy (detected version 1.18.4\n",
      "  warnings.warn(f\"A NumPy version >={np_minversion} and <{np_maxversion}\"\n"
     ]
    }
   ],
   "source": [
    "from surprise import Dataset, Reader,  accuracy, SVD, SVDpp\n",
    "\n",
    "#from funk_svd.dataset import fetch_ml_ratings\n",
    "#from funk_svd import SVD\n",
    "from surprise import SlopeOne, NMF, NormalPredictor, KNNBaseline, KNNBasic, KNNWithMeans, KNNWithZScore, BaselineOnly, CoClustering\n",
    "\n",
    "from surprise.model_selection import train_test_split\n",
    "import numpy as np\n",
    "import pandas as pd\n",
    "#from surprise import SVD\n",
    "import surprise\n",
    "import pickle\n",
    "import random\n",
    "from surprise.model_selection import cross_validate\n",
    "import plotly.express as px\n",
    "from surprise.model_selection import GridSearchCV\n",
    "#import matplotlib.pyplot as pltd\n",
    "from matplotlib import pyplot as plt    \n",
    "import seaborn as sns\n"
   ]
  },
  {
   "cell_type": "markdown",
   "metadata": {},
   "source": [
    "# Import files"
   ]
  },
  {
   "cell_type": "markdown",
   "metadata": {},
   "source": [
    "Import the files into dataframes"
   ]
  },
  {
   "cell_type": "code",
   "execution_count": 2,
   "metadata": {
    "execution": {
     "iopub.execute_input": "2022-10-13T07:12:31.849595Z",
     "iopub.status.busy": "2022-10-13T07:12:31.849033Z",
     "iopub.status.idle": "2022-10-13T07:12:32.063919Z",
     "shell.execute_reply": "2022-10-13T07:12:32.061549Z",
     "shell.execute_reply.started": "2022-10-13T07:12:31.849560Z"
    }
   },
   "outputs": [],
   "source": [
    "#Note - These files are large and cannot be run fully on Kaggle.The below has been performed on a local Linux pc\n",
    "\n",
    "\n",
    "##############################\n",
    "#The correct file for movies\n",
    "#############################\n",
    "\n",
    "movies_df = pd.read_csv('/home/bevan/Downloads/movie_recommender/kaggle submissin/unsupervised-predict-streamlit-template-project/resources/data/movies.csv')\n",
    "\n",
    "\n",
    "\n",
    "##############################\n",
    "#The correct file for ratings\n",
    "#############################\n",
    "ratings_f = pd.read_csv(\"/home/bevan/Downloads/movie_recommender/kaggle submissin/unsupervised-predict-streamlit-template-project/resources/data/final/train/train.csv\")\n",
    "\n",
    "\n",
    "\n",
    "##############################\n",
    "#The correct file for sample\n",
    "#############################\n",
    "\n",
    "sample = pd.read_csv('/home/bevan/Downloads/movie_recommender/kaggle submissin/unsupervised-predict-streamlit-template-project/resources/data/sample_submission.csv')\n",
    "\n",
    "\n",
    "######################################################\n",
    "#As the files are very large test with the below files\n",
    "######################################################\n",
    "\n",
    "\n",
    "#################################################################\n",
    "#The ratings file - random sample\n",
    "#################################################################\n",
    "\n",
    "random.seed(4321)\n",
    "ratings_f = pd.read_csv('/home/bevan/Downloads/movie_recommender/kaggle submissin/unsupervised-predict-streamlit-template-project/resources/data/final/train/train.csv', \n",
    "           skiprows=lambda x: x > 0 and random.random() >=0.2)\n",
    "\n",
    "\n",
    "\n",
    "#################################################################\n",
    "#The sample file - small file\n",
    "#################################################################\n",
    "\n",
    "#sample = pd.read_csv('/home/bevan/Downloads/movie_recommender/kaggle submissin/unsupervised-predict-streamlit-template-project/resources/data/sample_submission_small.csv')\n",
    "\n",
    "\n",
    "\n",
    "\n",
    "#####################################\n",
    "#Drop the timestamp column in ratings\n",
    "#####################################\n",
    "\n",
    "ratings_f.drop('timestamp',axis=1,inplace=True)\n",
    "\n",
    "\n",
    "#####################################\n",
    "#Remove NAN\n",
    "#####################################\n",
    "\n",
    "ratings_f = ratings_f.fillna(0)\n",
    "movies_df = movies_df.fillna(0)\n",
    "\n",
    "\n",
    "\n",
    "\n",
    "\n",
    "\n",
    "\n"
   ]
  },
  {
   "cell_type": "markdown",
   "metadata": {},
   "source": [
    "# **Exploratory Data Analysis**"
   ]
  },
  {
   "cell_type": "markdown",
   "metadata": {},
   "source": [
    "#View the first 5 rows of the ratings data"
   ]
  },
  {
   "cell_type": "code",
   "execution_count": 3,
   "metadata": {
    "execution": {
     "iopub.execute_input": "2022-10-13T07:12:38.660788Z",
     "iopub.status.busy": "2022-10-13T07:12:38.660377Z",
     "iopub.status.idle": "2022-10-13T07:12:38.677025Z",
     "shell.execute_reply": "2022-10-13T07:12:38.675393Z",
     "shell.execute_reply.started": "2022-10-13T07:12:38.660756Z"
    }
   },
   "outputs": [
    {
     "name": "stdout",
     "output_type": "stream",
     "text": [
      "   userId  movieId  rating\n",
      "0  146790     5459     5.0\n",
      "1  106362    32296     2.0\n",
      "2   19630    62049     4.0\n",
      "3   21066     2282     1.0\n",
      "4  117563   120474     4.0\n"
     ]
    }
   ],
   "source": [
    "print(ratings_f.head())"
   ]
  },
  {
   "cell_type": "markdown",
   "metadata": {},
   "source": [
    "#View the first 5 rows of the movie data"
   ]
  },
  {
   "cell_type": "code",
   "execution_count": 4,
   "metadata": {
    "execution": {
     "iopub.execute_input": "2022-10-13T07:13:57.565537Z",
     "iopub.status.busy": "2022-10-13T07:13:57.565072Z",
     "iopub.status.idle": "2022-10-13T07:13:57.575325Z",
     "shell.execute_reply": "2022-10-13T07:13:57.573266Z",
     "shell.execute_reply.started": "2022-10-13T07:13:57.565499Z"
    }
   },
   "outputs": [
    {
     "name": "stdout",
     "output_type": "stream",
     "text": [
      "   movieId                               title  \\\n",
      "0        1                    Toy Story (1995)   \n",
      "1        2                      Jumanji (1995)   \n",
      "2        3             Grumpier Old Men (1995)   \n",
      "3        4            Waiting to Exhale (1995)   \n",
      "4        5  Father of the Bride Part II (1995)   \n",
      "\n",
      "                                        genres  \n",
      "0  Adventure|Animation|Children|Comedy|Fantasy  \n",
      "1                   Adventure|Children|Fantasy  \n",
      "2                               Comedy|Romance  \n",
      "3                         Comedy|Drama|Romance  \n",
      "4                                       Comedy  \n"
     ]
    }
   ],
   "source": [
    "print(movies_df.head())"
   ]
  },
  {
   "cell_type": "markdown",
   "metadata": {},
   "source": [
    "View the first 5 rows of the sample data"
   ]
  },
  {
   "cell_type": "code",
   "execution_count": 5,
   "metadata": {
    "execution": {
     "iopub.execute_input": "2022-10-13T07:14:23.495565Z",
     "iopub.status.busy": "2022-10-13T07:14:23.495081Z",
     "iopub.status.idle": "2022-10-13T07:14:23.504448Z",
     "shell.execute_reply": "2022-10-13T07:14:23.503001Z",
     "shell.execute_reply.started": "2022-10-13T07:14:23.495529Z"
    }
   },
   "outputs": [
    {
     "name": "stdout",
     "output_type": "stream",
     "text": [
      "       Id  rating\n",
      "0  1_2011     1.0\n",
      "1  1_4144     1.0\n",
      "2  1_5767     1.0\n",
      "3  1_6711     1.0\n",
      "4  1_7318     1.0\n"
     ]
    }
   ],
   "source": [
    "print(sample.head())"
   ]
  },
  {
   "cell_type": "markdown",
   "metadata": {},
   "source": [
    "#Analyse the columns, shape and data types in the ratings data"
   ]
  },
  {
   "cell_type": "markdown",
   "metadata": {},
   "source": [
    "#Columns in ratings data"
   ]
  },
  {
   "cell_type": "code",
   "execution_count": 6,
   "metadata": {
    "execution": {
     "iopub.execute_input": "2022-10-13T07:20:05.891324Z",
     "iopub.status.busy": "2022-10-13T07:20:05.890891Z",
     "iopub.status.idle": "2022-10-13T07:20:05.927266Z",
     "shell.execute_reply": "2022-10-13T07:20:05.926014Z",
     "shell.execute_reply.started": "2022-10-13T07:20:05.891289Z"
    }
   },
   "outputs": [
    {
     "name": "stdout",
     "output_type": "stream",
     "text": [
      "Index(['userId', 'movieId', 'rating'], dtype='object')\n"
     ]
    }
   ],
   "source": [
    "print(ratings_f.columns)"
   ]
  },
  {
   "cell_type": "markdown",
   "metadata": {},
   "source": [
    "#Shape of ratings data"
   ]
  },
  {
   "cell_type": "code",
   "execution_count": 7,
   "metadata": {},
   "outputs": [
    {
     "name": "stdout",
     "output_type": "stream",
     "text": [
      "(1999966, 3)\n"
     ]
    }
   ],
   "source": [
    "print(ratings_f.shape)"
   ]
  },
  {
   "cell_type": "markdown",
   "metadata": {},
   "source": [
    "#Info of ratings data"
   ]
  },
  {
   "cell_type": "code",
   "execution_count": 8,
   "metadata": {},
   "outputs": [
    {
     "name": "stdout",
     "output_type": "stream",
     "text": [
      "<class 'pandas.core.frame.DataFrame'>\n",
      "RangeIndex: 1999966 entries, 0 to 1999965\n",
      "Data columns (total 3 columns):\n",
      " #   Column   Dtype  \n",
      "---  ------   -----  \n",
      " 0   userId   int64  \n",
      " 1   movieId  int64  \n",
      " 2   rating   float64\n",
      "dtypes: float64(1), int64(2)\n",
      "memory usage: 45.8 MB\n",
      "None\n"
     ]
    }
   ],
   "source": [
    "print(ratings_f.info())"
   ]
  },
  {
   "cell_type": "markdown",
   "metadata": {},
   "source": [
    "#Data types in ratings data"
   ]
  },
  {
   "cell_type": "code",
   "execution_count": 9,
   "metadata": {},
   "outputs": [
    {
     "name": "stdout",
     "output_type": "stream",
     "text": [
      "userId       int64\n",
      "movieId      int64\n",
      "rating     float64\n",
      "dtype: object\n"
     ]
    }
   ],
   "source": [
    "print(ratings_f.dtypes)"
   ]
  },
  {
   "cell_type": "markdown",
   "metadata": {},
   "source": [
    "#Count of rows in the ratings data\n"
   ]
  },
  {
   "cell_type": "code",
   "execution_count": 10,
   "metadata": {},
   "outputs": [
    {
     "name": "stdout",
     "output_type": "stream",
     "text": [
      "Count of rows in the data is:   1999966\n"
     ]
    }
   ],
   "source": [
    "print('Count of rows in the data is:  ', len(ratings_f))"
   ]
  },
  {
   "cell_type": "markdown",
   "metadata": {},
   "source": [
    "#Analyse the columns, shape and data types in the movies data"
   ]
  },
  {
   "cell_type": "markdown",
   "metadata": {},
   "source": [
    "#Columns in movies data"
   ]
  },
  {
   "cell_type": "code",
   "execution_count": 11,
   "metadata": {},
   "outputs": [
    {
     "name": "stdout",
     "output_type": "stream",
     "text": [
      "Index(['movieId', 'title', 'genres'], dtype='object')\n"
     ]
    }
   ],
   "source": [
    "print(movies_df.columns)"
   ]
  },
  {
   "cell_type": "markdown",
   "metadata": {
    "execution": {
     "iopub.execute_input": "2022-10-13T07:22:27.016562Z",
     "iopub.status.busy": "2022-10-13T07:22:27.016142Z",
     "iopub.status.idle": "2022-10-13T07:22:27.035744Z",
     "shell.execute_reply": "2022-10-13T07:22:27.034437Z",
     "shell.execute_reply.started": "2022-10-13T07:22:27.016526Z"
    }
   },
   "source": [
    "#Shape of movies data\n"
   ]
  },
  {
   "cell_type": "code",
   "execution_count": 12,
   "metadata": {},
   "outputs": [
    {
     "name": "stdout",
     "output_type": "stream",
     "text": [
      "(62423, 3)\n"
     ]
    }
   ],
   "source": [
    "print(movies_df.shape)"
   ]
  },
  {
   "cell_type": "markdown",
   "metadata": {},
   "source": [
    "#Info of movies data"
   ]
  },
  {
   "cell_type": "code",
   "execution_count": 13,
   "metadata": {},
   "outputs": [
    {
     "name": "stdout",
     "output_type": "stream",
     "text": [
      "<class 'pandas.core.frame.DataFrame'>\n",
      "RangeIndex: 62423 entries, 0 to 62422\n",
      "Data columns (total 3 columns):\n",
      " #   Column   Non-Null Count  Dtype \n",
      "---  ------   --------------  ----- \n",
      " 0   movieId  62423 non-null  int64 \n",
      " 1   title    62423 non-null  object\n",
      " 2   genres   62423 non-null  object\n",
      "dtypes: int64(1), object(2)\n",
      "memory usage: 1.4+ MB\n",
      "None\n"
     ]
    }
   ],
   "source": [
    "print(movies_df.info())"
   ]
  },
  {
   "cell_type": "markdown",
   "metadata": {},
   "source": [
    "#Data types in movies data"
   ]
  },
  {
   "cell_type": "code",
   "execution_count": 14,
   "metadata": {},
   "outputs": [
    {
     "name": "stdout",
     "output_type": "stream",
     "text": [
      "movieId     int64\n",
      "title      object\n",
      "genres     object\n",
      "dtype: object\n"
     ]
    }
   ],
   "source": [
    "print(movies_df.dtypes)"
   ]
  },
  {
   "cell_type": "markdown",
   "metadata": {},
   "source": [
    "#Count of rows in the movies data"
   ]
  },
  {
   "cell_type": "code",
   "execution_count": 15,
   "metadata": {},
   "outputs": [
    {
     "name": "stdout",
     "output_type": "stream",
     "text": [
      "Count of rows in the data is:   62423\n"
     ]
    }
   ],
   "source": [
    "print('Count of rows in the data is:  ', len(movies_df))"
   ]
  },
  {
   "cell_type": "markdown",
   "metadata": {},
   "source": [
    "#Total unique movies"
   ]
  },
  {
   "cell_type": "code",
   "execution_count": 16,
   "metadata": {},
   "outputs": [
    {
     "data": {
      "text/plain": [
       "62423"
      ]
     },
     "execution_count": 16,
     "metadata": {},
     "output_type": "execute_result"
    }
   ],
   "source": [
    "total_movies = movies_df['movieId'].unique().tolist()\n",
    "len(total_movies)"
   ]
  },
  {
   "cell_type": "markdown",
   "metadata": {},
   "source": [
    "# Visual Analysis"
   ]
  },
  {
   "cell_type": "markdown",
   "metadata": {},
   "source": [
    "#We can merge the two dataframes on the movieId column since it is common between the two dataframes."
   ]
  },
  {
   "cell_type": "code",
   "execution_count": 17,
   "metadata": {},
   "outputs": [
    {
     "data": {
      "text/html": [
       "<div>\n",
       "<style scoped>\n",
       "    .dataframe tbody tr th:only-of-type {\n",
       "        vertical-align: middle;\n",
       "    }\n",
       "\n",
       "    .dataframe tbody tr th {\n",
       "        vertical-align: top;\n",
       "    }\n",
       "\n",
       "    .dataframe thead th {\n",
       "        text-align: right;\n",
       "    }\n",
       "</style>\n",
       "<table border=\"1\" class=\"dataframe\">\n",
       "  <thead>\n",
       "    <tr style=\"text-align: right;\">\n",
       "      <th></th>\n",
       "      <th>userId</th>\n",
       "      <th>movieId</th>\n",
       "      <th>rating</th>\n",
       "      <th>title</th>\n",
       "      <th>genres</th>\n",
       "    </tr>\n",
       "  </thead>\n",
       "  <tbody>\n",
       "    <tr>\n",
       "      <th>0</th>\n",
       "      <td>146790</td>\n",
       "      <td>5459</td>\n",
       "      <td>5.0</td>\n",
       "      <td>Men in Black II (a.k.a. MIIB) (a.k.a. MIB 2) (...</td>\n",
       "      <td>Action|Comedy|Sci-Fi</td>\n",
       "    </tr>\n",
       "    <tr>\n",
       "      <th>1</th>\n",
       "      <td>100026</td>\n",
       "      <td>5459</td>\n",
       "      <td>2.0</td>\n",
       "      <td>Men in Black II (a.k.a. MIIB) (a.k.a. MIB 2) (...</td>\n",
       "      <td>Action|Comedy|Sci-Fi</td>\n",
       "    </tr>\n",
       "    <tr>\n",
       "      <th>2</th>\n",
       "      <td>32562</td>\n",
       "      <td>5459</td>\n",
       "      <td>2.5</td>\n",
       "      <td>Men in Black II (a.k.a. MIIB) (a.k.a. MIB 2) (...</td>\n",
       "      <td>Action|Comedy|Sci-Fi</td>\n",
       "    </tr>\n",
       "    <tr>\n",
       "      <th>3</th>\n",
       "      <td>4402</td>\n",
       "      <td>5459</td>\n",
       "      <td>3.0</td>\n",
       "      <td>Men in Black II (a.k.a. MIIB) (a.k.a. MIB 2) (...</td>\n",
       "      <td>Action|Comedy|Sci-Fi</td>\n",
       "    </tr>\n",
       "    <tr>\n",
       "      <th>4</th>\n",
       "      <td>10019</td>\n",
       "      <td>5459</td>\n",
       "      <td>4.0</td>\n",
       "      <td>Men in Black II (a.k.a. MIIB) (a.k.a. MIB 2) (...</td>\n",
       "      <td>Action|Comedy|Sci-Fi</td>\n",
       "    </tr>\n",
       "  </tbody>\n",
       "</table>\n",
       "</div>"
      ],
      "text/plain": [
       "   userId  movieId  rating                                              title  \\\n",
       "0  146790     5459     5.0  Men in Black II (a.k.a. MIIB) (a.k.a. MIB 2) (...   \n",
       "1  100026     5459     2.0  Men in Black II (a.k.a. MIIB) (a.k.a. MIB 2) (...   \n",
       "2   32562     5459     2.5  Men in Black II (a.k.a. MIIB) (a.k.a. MIB 2) (...   \n",
       "3    4402     5459     3.0  Men in Black II (a.k.a. MIIB) (a.k.a. MIB 2) (...   \n",
       "4   10019     5459     4.0  Men in Black II (a.k.a. MIIB) (a.k.a. MIB 2) (...   \n",
       "\n",
       "                 genres  \n",
       "0  Action|Comedy|Sci-Fi  \n",
       "1  Action|Comedy|Sci-Fi  \n",
       "2  Action|Comedy|Sci-Fi  \n",
       "3  Action|Comedy|Sci-Fi  \n",
       "4  Action|Comedy|Sci-Fi  "
      ]
     },
     "execution_count": 17,
     "metadata": {},
     "output_type": "execute_result"
    }
   ],
   "source": [
    "movie_data = pd.merge(ratings_f, movies_df, on='movieId')\n",
    "\n",
    "movie_data.head()"
   ]
  },
  {
   "cell_type": "markdown",
   "metadata": {},
   "source": [
    "#We can now view the average rating of each movie"
   ]
  },
  {
   "cell_type": "code",
   "execution_count": 18,
   "metadata": {},
   "outputs": [
    {
     "data": {
      "text/plain": [
       "title\n",
       "\"Great Performances\" Cats (1998)    2.966667\n",
       "#Female Pleasure (2018)             4.000000\n",
       "#FollowMe (2019)                    3.000000\n",
       "#Horror (2015)                      2.750000\n",
       "#realityhigh (2017)                 3.000000\n",
       "Name: rating, dtype: float64"
      ]
     },
     "execution_count": 18,
     "metadata": {},
     "output_type": "execute_result"
    }
   ],
   "source": [
    "movie_data.groupby('title')['rating'].mean().head()"
   ]
  },
  {
   "cell_type": "markdown",
   "metadata": {},
   "source": [
    "#View the total number of ratings for a movie"
   ]
  },
  {
   "cell_type": "code",
   "execution_count": 19,
   "metadata": {},
   "outputs": [
    {
     "data": {
      "text/plain": [
       "title\n",
       "Shawshank Redemption, The (1994)    6636\n",
       "Pulp Fiction (1994)                 6352\n",
       "Forrest Gump (1994)                 6333\n",
       "Silence of the Lambs, The (1991)    5890\n",
       "Matrix, The (1999)                  5860\n",
       "Name: rating, dtype: int64"
      ]
     },
     "execution_count": 19,
     "metadata": {},
     "output_type": "execute_result"
    }
   ],
   "source": [
    "movie_data.groupby('title')['rating'].count().sort_values(ascending=False).head()"
   ]
  },
  {
   "cell_type": "markdown",
   "metadata": {},
   "source": []
  },
  {
   "cell_type": "markdown",
   "metadata": {},
   "source": [
    "#count plot for Toy story based on rating"
   ]
  },
  {
   "cell_type": "code",
   "execution_count": 20,
   "metadata": {},
   "outputs": [
    {
     "name": "stderr",
     "output_type": "stream",
     "text": [
      "/home/bevan/.local/lib/python3.8/site-packages/seaborn/_decorators.py:36: FutureWarning: Pass the following variable as a keyword arg: x. From version 0.12, the only valid positional argument will be `data`, and passing other arguments without an explicit keyword will result in an error or misinterpretation.\n",
      "  warnings.warn(\n"
     ]
    },
    {
     "data": {
      "text/plain": [
       "<AxesSubplot:xlabel='rating', ylabel='count'>"
      ]
     },
     "execution_count": 20,
     "metadata": {},
     "output_type": "execute_result"
    },
    {
     "data": {
      "image/png": "[encoded data removed]",
      "text/plain": [
       "<Figure size 432x288 with 1 Axes>"
      ]
     },
     "metadata": {
      "needs_background": "light"
     },
     "output_type": "display_data"
    }
   ],
   "source": [
    "\n",
    "sns.countplot(movie_data.loc[movie_data['title']=='Toy Story (1995)']['rating'])"
   ]
  },
  {
   "cell_type": "markdown",
   "metadata": {},
   "source": [
    "#Top 25 movies by viewership rating\n",
    "#finding mean rating of all the movies"
   ]
  },
  {
   "cell_type": "markdown",
   "metadata": {},
   "source": [
    "#distribution of the rating data"
   ]
  },
  {
   "cell_type": "code",
   "execution_count": 21,
   "metadata": {},
   "outputs": [
    {
     "name": "stderr",
     "output_type": "stream",
     "text": [
      "/tmp/ipykernel_6176/3745972293.py:4: UserWarning: FixedFormatter should only be used together with FixedLocator\n",
      "  ax.set_yticklabels(['{:,.0%}'.format(x) for x in vals])\n"
     ]
    },
    {
     "data": {
      "image/png": "[encoded data removed]",
      "text/plain": [
       "<Figure size 576x432 with 1 Axes>"
      ]
     },
     "metadata": {
      "needs_background": "light"
     },
     "output_type": "display_data"
    }
   ],
   "source": [
    "fig = plt.figure()\n",
    "ax = ratings_f.rating.value_counts(True).sort_index().plot.bar(figsize=(8,6))\n",
    "vals = ax.get_yticks()\n",
    "ax.set_yticklabels(['{:,.0%}'.format(x) for x in vals])\n",
    "plt.xlabel('Rating', fontsize=12)\n",
    "plt.ylabel('Share of Ratings', fontsize=12)\n",
    "plt.xticks(fontsize=12)\n",
    "plt.yticks(fontsize=12)\n",
    "fig.savefig('Ratings_distribution.png')"
   ]
  },
  {
   "cell_type": "markdown",
   "metadata": {},
   "source": [
    "#Top 25 movies by viewership rating #finding mean rating of all the movies"
   ]
  },
  {
   "cell_type": "code",
   "execution_count": 22,
   "metadata": {},
   "outputs": [],
   "source": [
    "mean_movies=movie_data.groupby('title')['rating'].agg('mean')"
   ]
  },
  {
   "cell_type": "code",
   "execution_count": 23,
   "metadata": {},
   "outputs": [
    {
     "data": {
      "text/plain": [
       "title\n",
       "\"Great Performances\" Cats (1998)    2.966667\n",
       "#Female Pleasure (2018)             4.000000\n",
       "#FollowMe (2019)                    3.000000\n",
       "#Horror (2015)                      2.750000\n",
       "#realityhigh (2017)                 3.000000\n",
       "Name: rating, dtype: float64"
      ]
     },
     "execution_count": 23,
     "metadata": {},
     "output_type": "execute_result"
    }
   ],
   "source": [
    "mean_movies.head()"
   ]
  },
  {
   "cell_type": "code",
   "execution_count": 24,
   "metadata": {},
   "outputs": [
    {
     "data": {
      "text/plain": [
       "title\n",
       "(Girl)Friend (2018)                               5.0\n",
       "100 Degrees Below Zero (2013)                     5.0\n",
       "100 Yen: The Japanese Arcade Experience (2012)    5.0\n",
       "12 Gifts of Christmas (2015)                      5.0\n",
       "186 Dollars to Freedom (2012)                     5.0\n",
       "1971 (2014)                                       5.0\n",
       "2 Jennifer (2016)                                 5.0\n",
       "2012: Time for Change (2010)                      5.0\n",
       "2016: Obama's America (2012)                      5.0\n",
       "21 Years: Richard Linklater (2014)                5.0\n",
       "24 Frames (2017)                                  5.0\n",
       "3-D Sex and Zen: Extreme Ecstasy (2011)           5.0\n",
       "38 Parrots                                        5.0\n",
       "5 Doctors (2016)                                  5.0\n",
       "588 Rue Paradis (Mother) (1992)                   5.0\n",
       "A Christmas Carol (2015)                          5.0\n",
       "A Fighting Man (2014)                             5.0\n",
       "A Gentle Creature (2017)                          5.0\n",
       "A Gift Horse (2015)                               5.0\n",
       "A Hazard of Hearts (1987)                         5.0\n",
       "A LEGO Brickumentary (2015)                       5.0\n",
       "A Love Affair of Sorts (2011)                     5.0\n",
       "A Mother's Nightmare (2012)                       5.0\n",
       "A Moving Romance (2017)                           5.0\n",
       "A Royal Winter (2017)                             5.0\n",
       "Name: rating, dtype: float64"
      ]
     },
     "execution_count": 24,
     "metadata": {},
     "output_type": "execute_result"
    }
   ],
   "source": [
    "#Top 25 movies\n",
    "mean_movies.nlargest(25)"
   ]
  },
  {
   "cell_type": "code",
   "execution_count": 25,
   "metadata": {},
   "outputs": [
    {
     "data": {
      "text/plain": [
       "[Text(0, 0, '(Girl)Friend (2018)'),\n",
       " Text(1, 0, '100 Degrees Below Zero (2013)'),\n",
       " Text(2, 0, '100 Yen: The Japanese Arcade Experience (2012)'),\n",
       " Text(3, 0, '12 Gifts of Christmas (2015)'),\n",
       " Text(4, 0, '186 Dollars to Freedom (2012)'),\n",
       " Text(5, 0, '1971 (2014)'),\n",
       " Text(6, 0, '2 Jennifer (2016)'),\n",
       " Text(7, 0, '2012: Time for Change (2010)'),\n",
       " Text(8, 0, \"2016: Obama's America (2012)\"),\n",
       " Text(9, 0, '21 Years: Richard Linklater (2014)'),\n",
       " Text(10, 0, '24 Frames (2017)'),\n",
       " Text(11, 0, '3-D Sex and Zen: Extreme Ecstasy (2011)'),\n",
       " Text(12, 0, '38 Parrots'),\n",
       " Text(13, 0, '5 Doctors (2016)'),\n",
       " Text(14, 0, '588 Rue Paradis (Mother) (1992)'),\n",
       " Text(15, 0, 'A Christmas Carol (2015)'),\n",
       " Text(16, 0, 'A Fighting Man (2014)'),\n",
       " Text(17, 0, 'A Gentle Creature (2017)'),\n",
       " Text(18, 0, 'A Gift Horse (2015)'),\n",
       " Text(19, 0, 'A Hazard of Hearts (1987)'),\n",
       " Text(20, 0, 'A LEGO Brickumentary (2015)'),\n",
       " Text(21, 0, 'A Love Affair of Sorts (2011)'),\n",
       " Text(22, 0, \"A Mother's Nightmare (2012)\"),\n",
       " Text(23, 0, 'A Moving Romance (2017)'),\n",
       " Text(24, 0, 'A Royal Winter (2017)')]"
      ]
     },
     "execution_count": 25,
     "metadata": {},
     "output_type": "execute_result"
    },
    {
     "data": {
      "image/png": "[encoded data removed]",
      "text/plain": [
       "<Figure size 432x288 with 1 Axes>"
      ]
     },
     "metadata": {
      "needs_background": "light"
     },
     "output_type": "display_data"
    }
   ],
   "source": [
    "#visualization of top 25 movies based on rating\n",
    "plot1=sns.barplot(x=mean_movies.nlargest(25).index,y=mean_movies.nlargest(25).values)\n",
    "plot1.set_xticklabels(plot1.get_xticklabels(),rotation=90)"
   ]
  },
  {
   "cell_type": "markdown",
   "metadata": {},
   "source": [
    "#Lowest ranked 25 movies"
   ]
  },
  {
   "cell_type": "code",
   "execution_count": 26,
   "metadata": {},
   "outputs": [
    {
     "data": {
      "text/plain": [
       "title\n",
       "(T)ERROR (2015)                                               0.5\n",
       "11/11/11 (2011)                                               0.5\n",
       "2001: A Space Travesty (2000)                                 0.5\n",
       "20th Century Boys - Chapter 1: Beginning of the End (2008)    0.5\n",
       "4 (2005)                                                      0.5\n",
       "4 Days (2017)                                                 0.5\n",
       "44 Pages (2018)                                               0.5\n",
       "A Brother's Love (2019)                                       0.5\n",
       "A Connecticut Yankee in King Arthur's Court (1970)            0.5\n",
       "A Fox's Tale (2008)                                           0.5\n",
       "A Hidden Life (2019)                                          0.5\n",
       "Aakrosh (1980)                                                0.5\n",
       "Aap Mujhe Achche Lagne Lage (2002)                            0.5\n",
       "Adam Devine: Best Time of Our Lives (2019)                    0.5\n",
       "Adam and Eve (1983)                                           0.5\n",
       "Against the Wild (2014)                                       0.5\n",
       "Agyaat (2009)                                                 0.5\n",
       "Air Bud: Spikes Back (2003)                                   0.5\n",
       "Al Capone (1959)                                              0.5\n",
       "Alleycats (2016)                                              0.5\n",
       "Aloft (2014)                                                  0.5\n",
       "Alone in the Dark II (2008)                                   0.5\n",
       "Amateur Porn Star Killer 2 (2008)                             0.5\n",
       "American Poltergeist (2015)                                   0.5\n",
       "An Ant's Life (1998)                                          0.5\n",
       "Name: rating, dtype: float64"
      ]
     },
     "execution_count": 26,
     "metadata": {},
     "output_type": "execute_result"
    }
   ],
   "source": [
    "mean_movies.nsmallest(25)"
   ]
  },
  {
   "cell_type": "code",
   "execution_count": 27,
   "metadata": {},
   "outputs": [
    {
     "data": {
      "text/plain": [
       "[Text(0, 0, '(T)ERROR (2015)'),\n",
       " Text(1, 0, '11/11/11 (2011)'),\n",
       " Text(2, 0, '2001: A Space Travesty (2000)'),\n",
       " Text(3, 0, '20th Century Boys - Chapter 1: Beginning of the End (2008)'),\n",
       " Text(4, 0, '4 (2005)'),\n",
       " Text(5, 0, '4 Days (2017)'),\n",
       " Text(6, 0, '44 Pages (2018)'),\n",
       " Text(7, 0, \"A Brother's Love (2019)\"),\n",
       " Text(8, 0, \"A Connecticut Yankee in King Arthur's Court (1970)\"),\n",
       " Text(9, 0, \"A Fox's Tale (2008)\"),\n",
       " Text(10, 0, 'A Hidden Life (2019)'),\n",
       " Text(11, 0, 'Aakrosh (1980)'),\n",
       " Text(12, 0, 'Aap Mujhe Achche Lagne Lage (2002)'),\n",
       " Text(13, 0, 'Adam Devine: Best Time of Our Lives (2019)'),\n",
       " Text(14, 0, 'Adam and Eve (1983)'),\n",
       " Text(15, 0, 'Against the Wild (2014)'),\n",
       " Text(16, 0, 'Agyaat (2009)'),\n",
       " Text(17, 0, 'Air Bud: Spikes Back (2003)'),\n",
       " Text(18, 0, 'Al Capone (1959)'),\n",
       " Text(19, 0, 'Alleycats (2016)'),\n",
       " Text(20, 0, 'Aloft (2014)'),\n",
       " Text(21, 0, 'Alone in the Dark II (2008)'),\n",
       " Text(22, 0, 'Amateur Porn Star Killer 2 (2008)'),\n",
       " Text(23, 0, 'American Poltergeist (2015)'),\n",
       " Text(24, 0, \"An Ant's Life (1998)\")]"
      ]
     },
     "execution_count": 27,
     "metadata": {},
     "output_type": "execute_result"
    },
    {
     "data": {
      "image/png": "[encoded data removed]",
      "text/plain": [
       "<Figure size 432x288 with 1 Axes>"
      ]
     },
     "metadata": {
      "needs_background": "light"
     },
     "output_type": "display_data"
    }
   ],
   "source": [
    "plot1=sns.barplot(x=mean_movies.nsmallest(25).index,y=mean_movies.nsmallest(25).values)\n",
    "plot1.set_xticklabels(plot1.get_xticklabels(),rotation=90)"
   ]
  },
  {
   "cell_type": "markdown",
   "metadata": {},
   "source": [
    "# Data preprocessing"
   ]
  },
  {
   "cell_type": "markdown",
   "metadata": {},
   "source": [
    "#The sample file is in the incorrect format"
   ]
  },
  {
   "cell_type": "code",
   "execution_count": 28,
   "metadata": {
    "execution": {
     "iopub.execute_input": "2022-10-13T07:34:22.921398Z",
     "iopub.status.busy": "2022-10-13T07:34:22.920978Z",
     "iopub.status.idle": "2022-10-13T07:34:22.935784Z",
     "shell.execute_reply": "2022-10-13T07:34:22.934511Z",
     "shell.execute_reply.started": "2022-10-13T07:34:22.921366Z"
    }
   },
   "outputs": [],
   "source": [
    "sample[['Id','movieId']] = sample['Id'].str.split('_',expand=True)\n",
    "sample = sample[['Id', 'movieId', 'rating']]\n",
    "sample['Id'] = sample['Id'].astype(int)\n",
    "sample['movieId'] = sample['movieId'].astype(int)\n",
    "sample['rating'] = sample['rating'].astype(float)"
   ]
  },
  {
   "cell_type": "markdown",
   "metadata": {},
   "source": [
    "# **Clean the data**"
   ]
  },
  {
   "cell_type": "code",
   "execution_count": 29,
   "metadata": {
    "execution": {
     "iopub.execute_input": "2022-10-13T07:34:26.198481Z",
     "iopub.status.busy": "2022-10-13T07:34:26.198070Z",
     "iopub.status.idle": "2022-10-13T07:34:27.109242Z",
     "shell.execute_reply": "2022-10-13T07:34:27.108146Z",
     "shell.execute_reply.started": "2022-10-13T07:34:26.198447Z"
    }
   },
   "outputs": [],
   "source": [
    "#No need to clean the data\n",
    "\n",
    "\n",
    "\n"
   ]
  },
  {
   "cell_type": "markdown",
   "metadata": {},
   "source": [
    "# Modelling"
   ]
  },
  {
   "cell_type": "code",
   "execution_count": 30,
   "metadata": {
    "execution": {
     "iopub.execute_input": "2022-10-13T08:22:17.609874Z",
     "iopub.status.busy": "2022-10-13T08:22:17.609424Z",
     "iopub.status.idle": "2022-10-13T08:22:25.501900Z",
     "shell.execute_reply": "2022-10-13T08:22:25.500588Z",
     "shell.execute_reply.started": "2022-10-13T08:22:17.609838Z"
    }
   },
   "outputs": [],
   "source": [
    "#Prepare sample data\n",
    "X_test_sample  = list(sample.itertuples(index=False, name=None))\n",
    "\n",
    "\n",
    "#Set min and max ratings\n",
    "min_rat = ratings_f['rating'].min()\n",
    "max_rat = ratings_f['rating'].max()\n",
    "\n",
    "# Changing ratings to their standard form\n",
    "reader = surprise.Reader(rating_scale = (min_rat,max_rat))\n",
    "\n",
    "# Loading the data frame using surprice\n",
    "data_load = surprise.Dataset.load_from_df(ratings_f, reader)\n",
    "\n",
    "\n",
    "\n",
    "\n",
    "\n"
   ]
  },
  {
   "cell_type": "markdown",
   "metadata": {},
   "source": [
    "#Try different algorithms"
   ]
  },
  {
   "cell_type": "code",
   "execution_count": null,
   "metadata": {},
   "outputs": [],
   "source": [
    "############################\n",
    "#Grid search using SVD\n",
    "############################\n",
    "\n",
    "           \n",
    "param_grid = {'n_factors': [500, 1000, 2000],\n",
    "              'n_epochs': [40, 60, 100],\n",
    "              'lr_all': [0.002, 0.005],\n",
    "              'reg_all': [0.04, 0.05]}\n",
    "\n",
    "# Tune algorithm parameters with GridSearchCV and k=3 cross-validation \n",
    "gs = GridSearchCV(SVD, param_grid, measures = ['rmse', 'mae'], cv = 3)\n",
    "gs.fit(data_load)\n",
    "\n",
    "# Best RMSE and MAE scores\n",
    "\n",
    "print(gs.best_score)\n",
    "print(\"Best scores for SVD\")\n",
    "# Combination of parameters that gave the best scores\n",
    "print(\"Best parameters for SVD\")\n",
    "print(gs.best_params)\n",
    "\n",
    "\n",
    "\n",
    " \n",
    "\n",
    "\n",
    "\n",
    "\n",
    "#############################\n",
    "#BaselineOnly Algorithm\n",
    "############################\n",
    "\n",
    "bsl_options = {'method': 'sgd',\n",
    "               'n_epochs': 200,\n",
    "               'reg_u': 20,\n",
    "               'reg_i': 20\n",
    "               }\n",
    "method = BaselineOnly(bsl_options=bsl_options)\n",
    "\n",
    "print(\"BaselineOnly performance\")\n",
    "print(\"starting cross validate\")       \n",
    "performs = cross_validate(method, data_load, measures=['RMSE', 'MAE'], cv=3, verbose=True)\n",
    "print(performs)\n",
    "print(\"finished cross validate\") \n",
    "\n",
    "print(\"\")\n",
    "\n",
    "#############################\n",
    "#BaselineOnly Algorithm\n",
    "############################\n",
    "\n",
    "bsl_options = {'method': 'sgd',\n",
    "               'n_epochs': 200,\n",
    "               'reg_u': 20,\n",
    "               'reg_i': 20\n",
    "               }\n",
    "method = BaselineOnly(bsl_options=bsl_options)\n",
    "\n",
    "print(\"BaselineOnly performance\")\n",
    "print(\"starting cross validate\")       \n",
    "performs = cross_validate(method, data_load, measures=['RMSE', 'MAE'], cv=3, verbose=True)\n",
    "print(performs)\n",
    "print(\"finished cross validate\") \n",
    "print(\"\")\n",
    "\n",
    "\n",
    "\n",
    "\n",
    "#############################\n",
    "#KNNBasic Algorithm\n",
    "############################\n",
    "\n",
    "sim_options = {'name': 'msd',\n",
    "               'user_based': False  # compute  similarities between items\n",
    "               }\n",
    "method = KNNBasic(k=30,sim_options=sim_options)\n",
    "\n",
    "\n",
    "print(\"KNNBasic performance\")\n",
    "print(\"starting cross validate\")       \n",
    "performs = cross_validate(method, data_load, measures=['RMSE', 'MAE'], cv=3, verbose=True)\n",
    "print(performs)\n",
    "print(\"finished cross validate\") \n",
    "\n",
    "\n",
    "\n",
    "\n",
    "\n",
    "\n",
    "\n",
    "\n",
    "\n",
    " \n"
   ]
  },
  {
   "cell_type": "markdown",
   "metadata": {},
   "source": [
    "#Best settings for model"
   ]
  },
  {
   "cell_type": "code",
   "execution_count": null,
   "metadata": {},
   "outputs": [],
   "source": [
    "method = SVD(n_factors = 2000 , lr_all = 0.005 , reg_all = 0.04 , n_epochs = 100 , init_std_dev = 0.01)"
   ]
  },
  {
   "cell_type": "markdown",
   "metadata": {},
   "source": [
    "# Train the data"
   ]
  },
  {
   "cell_type": "code",
   "execution_count": null,
   "metadata": {
    "execution": {
     "iopub.execute_input": "2022-10-13T08:22:25.503959Z",
     "iopub.status.busy": "2022-10-13T08:22:25.503627Z",
     "iopub.status.idle": "2022-10-13T08:22:26.013475Z",
     "shell.execute_reply": "2022-10-13T08:22:26.011949Z",
     "shell.execute_reply.started": "2022-10-13T08:22:25.503931Z"
    }
   },
   "outputs": [],
   "source": [
    "# Loading a trainset into the model\n",
    "\n",
    "model = method.fit(data_load.build_full_trainset())\n",
    "#print (f\"Training completed. Saving model to: {save_path}\")\n",
    "    \n",
    "print(\"starting cross validate\")       \n",
    "performs = cross_validate(method, data_load, measures=['RMSE', 'MAE'], cv=3, verbose=True)\n",
    "print(performs)\n",
    "print(\"finished cross validate\")   \n"
   ]
  },
  {
   "cell_type": "markdown",
   "metadata": {},
   "source": [
    "# Predict"
   ]
  },
  {
   "cell_type": "code",
   "execution_count": null,
   "metadata": {
    "execution": {
     "iopub.execute_input": "2022-10-13T07:34:32.837195Z",
     "iopub.status.busy": "2022-10-13T07:34:32.836755Z",
     "iopub.status.idle": "2022-10-13T07:34:36.554205Z",
     "shell.execute_reply": "2022-10-13T07:34:36.552771Z",
     "shell.execute_reply.started": "2022-10-13T07:34:32.837150Z"
    }
   },
   "outputs": [],
   "source": [
    "predictions = method.test(X_test_sample)\n",
    "#print(predictions)\n",
    "\n",
    "\n",
    "\n",
    "\n",
    "prediction_output = pd.DataFrame (predictions, columns = ['uid', 'iid', 'r_ui', 'est', 'details'])\n",
    "prediction_output = prediction_output.drop(['details'], axis=1)\n",
    "prediction_output = prediction_output.drop(['r_ui'], axis=1)\n",
    "\n",
    "\n",
    "cols = ['uid', 'iid']\n",
    "prediction_output['Id'] = prediction_output[cols].apply(lambda row: '_'.join(row.values.astype(str)), axis=1)\n",
    "prediction_output['rating'] = prediction_output['est']\n",
    "\n",
    "prediction_output = prediction_output.drop(['uid'], axis=1)\n",
    "prediction_output = prediction_output.drop(['iid'], axis=1)\n",
    "prediction_output = prediction_output.drop(['est'], axis=1)\n",
    "prediction_output = prediction_output[['Id', 'rating']]\n",
    "\n",
    "\n",
    "\n",
    "\n",
    "#This is the correct one to save file\n",
    "prediction_output.to_csv('testsubmission.csv', index=False)   \n"
   ]
  },
  {
   "cell_type": "code",
   "execution_count": null,
   "metadata": {},
   "outputs": [],
   "source": []
  },
  {
   "cell_type": "code",
   "execution_count": null,
   "metadata": {},
   "outputs": [],
   "source": []
  },
  {
   "cell_type": "code",
   "execution_count": null,
   "metadata": {},
   "outputs": [],
   "source": []
  },
  {
   "cell_type": "code",
   "execution_count": null,
   "metadata": {},
   "outputs": [],
   "source": []
  }
 ],
 "metadata": {
  "kernelspec": {
   "display_name": "Python 3 (ipykernel)",
   "language": "python",
   "name": "python3"
  },
  "language_info": {
   "codemirror_mode": {
    "name": "ipython",
    "version": 3
   },
   "file_extension": ".py",
   "mimetype": "text/x-python",
   "name": "python",
   "nbconvert_exporter": "python",
   "pygments_lexer": "ipython3",
   "version": "3.8.6"
  }
 },
 "nbformat": 4,
 "nbformat_minor": 4
}
